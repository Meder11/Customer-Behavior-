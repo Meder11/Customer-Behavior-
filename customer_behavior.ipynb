{
 "cells": [
  {
   "cell_type": "code",
   "execution_count": 2,
   "id": "057e07a2-67ab-4027-b451-8c90b2d6a840",
   "metadata": {},
   "outputs": [
    {
     "data": {
      "text/html": [
       "<div>\n",
       "<style scoped>\n",
       "    .dataframe tbody tr th:only-of-type {\n",
       "        vertical-align: middle;\n",
       "    }\n",
       "\n",
       "    .dataframe tbody tr th {\n",
       "        vertical-align: top;\n",
       "    }\n",
       "\n",
       "    .dataframe thead th {\n",
       "        text-align: right;\n",
       "    }\n",
       "</style>\n",
       "<table border=\"1\" class=\"dataframe\">\n",
       "  <thead>\n",
       "    <tr style=\"text-align: right;\">\n",
       "      <th></th>\n",
       "      <th>customer_id</th>\n",
       "      <th>signup_date</th>\n",
       "      <th>last_purchase_date</th>\n",
       "      <th>region</th>\n",
       "      <th>segment</th>\n",
       "      <th>churned</th>\n",
       "      <th>total_spent</th>\n",
       "      <th>purchase_frequency</th>\n",
       "    </tr>\n",
       "  </thead>\n",
       "  <tbody>\n",
       "    <tr>\n",
       "      <th>0</th>\n",
       "      <td>dd8d6013-41ad-4afe-952d-31215bdad7fb</td>\n",
       "      <td>2023-08-03</td>\n",
       "      <td>2025-05-09</td>\n",
       "      <td>South</td>\n",
       "      <td>Silver</td>\n",
       "      <td>0</td>\n",
       "      <td>1607.21</td>\n",
       "      <td>22</td>\n",
       "    </tr>\n",
       "    <tr>\n",
       "      <th>1</th>\n",
       "      <td>712976d9-a1ad-4855-accd-db8db21b77c6</td>\n",
       "      <td>2023-11-07</td>\n",
       "      <td>2025-05-09</td>\n",
       "      <td>East</td>\n",
       "      <td>Silver</td>\n",
       "      <td>0</td>\n",
       "      <td>1123.55</td>\n",
       "      <td>25</td>\n",
       "    </tr>\n",
       "    <tr>\n",
       "      <th>2</th>\n",
       "      <td>4aceb573-1e24-4d10-b95a-51f83c75adf1</td>\n",
       "      <td>2023-09-07</td>\n",
       "      <td>2025-05-09</td>\n",
       "      <td>North</td>\n",
       "      <td>Silver</td>\n",
       "      <td>0</td>\n",
       "      <td>483.44</td>\n",
       "      <td>25</td>\n",
       "    </tr>\n",
       "    <tr>\n",
       "      <th>3</th>\n",
       "      <td>a6641b1d-3488-4d0f-90d6-09816ab957e2</td>\n",
       "      <td>2023-06-15</td>\n",
       "      <td>2025-05-09</td>\n",
       "      <td>East</td>\n",
       "      <td>Gold</td>\n",
       "      <td>0</td>\n",
       "      <td>1278.15</td>\n",
       "      <td>5</td>\n",
       "    </tr>\n",
       "    <tr>\n",
       "      <th>4</th>\n",
       "      <td>cdce0d86-05b5-4c5a-89d3-4ba1e716e896</td>\n",
       "      <td>2024-01-17</td>\n",
       "      <td>2025-05-09</td>\n",
       "      <td>East</td>\n",
       "      <td>Silver</td>\n",
       "      <td>0</td>\n",
       "      <td>185.84</td>\n",
       "      <td>16</td>\n",
       "    </tr>\n",
       "  </tbody>\n",
       "</table>\n",
       "</div>"
      ],
      "text/plain": [
       "                            customer_id signup_date last_purchase_date region  \\\n",
       "0  dd8d6013-41ad-4afe-952d-31215bdad7fb  2023-08-03         2025-05-09  South   \n",
       "1  712976d9-a1ad-4855-accd-db8db21b77c6  2023-11-07         2025-05-09   East   \n",
       "2  4aceb573-1e24-4d10-b95a-51f83c75adf1  2023-09-07         2025-05-09  North   \n",
       "3  a6641b1d-3488-4d0f-90d6-09816ab957e2  2023-06-15         2025-05-09   East   \n",
       "4  cdce0d86-05b5-4c5a-89d3-4ba1e716e896  2024-01-17         2025-05-09   East   \n",
       "\n",
       "  segment  churned  total_spent  purchase_frequency  \n",
       "0  Silver        0      1607.21                  22  \n",
       "1  Silver        0      1123.55                  25  \n",
       "2  Silver        0       483.44                  25  \n",
       "3    Gold        0      1278.15                   5  \n",
       "4  Silver        0       185.84                  16  "
      ]
     },
     "execution_count": 2,
     "metadata": {},
     "output_type": "execute_result"
    }
   ],
   "source": [
    "import pandas as pd\n",
    "\n",
    "# Load your dataset\n",
    "df = pd.read_csv('customer_behavior_data.csv')\n",
    "\n",
    "# Preview\n",
    "df.head()"
   ]
  },
  {
   "cell_type": "code",
   "execution_count": 3,
   "id": "ad2e4e55-1f0e-4a23-a764-d7cf8925d9df",
   "metadata": {},
   "outputs": [
    {
     "name": "stdout",
     "output_type": "stream",
     "text": [
      "Overall Churn Rate: 30.1%\n"
     ]
    }
   ],
   "source": [
    "# Overall churn rate\n",
    "total_customers = len(df)\n",
    "churned_customers = df['churned'].sum()\n",
    "churn_rate = churned_customers / total_customers * 100\n",
    "print(f\"Overall Churn Rate: {churn_rate:.1f}%\")"
   ]
  },
  {
   "cell_type": "code",
   "execution_count": 4,
   "id": "164e98c6-daf2-4baa-a92f-b27ff2cf7c5e",
   "metadata": {},
   "outputs": [
    {
     "name": "stdout",
     "output_type": "stream",
     "text": [
      "\n",
      "Churn by Segment:\n",
      "     segment  Total_Customers  Churned_Customers  Churn_Rate\n",
      "0      Gold             3372               1011        30.0\n",
      "1  Platinum             3280                984        30.0\n",
      "2    Silver             3348               1019        30.4\n"
     ]
    }
   ],
   "source": [
    "# Churn by Segment\n",
    "segment_churn = df.groupby('segment').agg(\n",
    "    Total_Customers=('customer_id', 'count'),\n",
    "    Churned_Customers=('churned', 'sum')\n",
    ").reset_index()\n",
    "segment_churn['Churn_Rate'] = round(segment_churn['Churned_Customers'] / segment_churn['Total_Customers'] * 100, 1)\n",
    "print(\"\\nChurn by Segment:\\n\", segment_churn)"
   ]
  },
  {
   "cell_type": "code",
   "execution_count": 5,
   "id": "6a4e8c8b-939f-4142-b7fe-9c8048ae93cf",
   "metadata": {},
   "outputs": [
    {
     "name": "stdout",
     "output_type": "stream",
     "text": [
      "\n",
      "Churn by Region:\n",
      "   region  Total_Customers  Churned_Customers  Churn_Rate\n",
      "0   East             2489                740        29.7\n",
      "1  North             2520                774        30.7\n",
      "2  South             2437                732        30.0\n",
      "3   West             2554                768        30.1\n"
     ]
    }
   ],
   "source": [
    "# Churn by Region\n",
    "region_churn = df.groupby('region').agg(\n",
    "    Total_Customers=('customer_id', 'count'),\n",
    "    Churned_Customers=('churned', 'sum')\n",
    ").reset_index()\n",
    "region_churn['Churn_Rate'] = round(region_churn['Churned_Customers'] / region_churn['Total_Customers'] * 100, 1)\n",
    "print(\"\\nChurn by Region:\\n\", region_churn)"
   ]
  },
  {
   "cell_type": "code",
   "execution_count": 6,
   "id": "58619473-484a-4e0d-a7ad-6532cdd719b4",
   "metadata": {},
   "outputs": [
    {
     "name": "stdout",
     "output_type": "stream",
     "text": [
      "\n",
      "Average Spending by Churn Status:\n",
      "    Churned  Avg_Total_Spent\n",
      "0        0      1025.348574\n",
      "1        1      1012.879469\n"
     ]
    }
   ],
   "source": [
    "# Spending Behavior by Churn Status\n",
    "spending_by_churn = df.groupby('churned')['total_spent'].mean().reset_index()\n",
    "spending_by_churn.columns = ['Churned', 'Avg_Total_Spent']\n",
    "print(\"\\nAverage Spending by Churn Status:\\n\", spending_by_churn)"
   ]
  },
  {
   "cell_type": "code",
   "execution_count": 7,
   "id": "cd51777b-eba5-4328-bae6-f3e349ad33cd",
   "metadata": {},
   "outputs": [
    {
     "name": "stdout",
     "output_type": "stream",
     "text": [
      "\n",
      "Segment Spending Drop (Churned vs Active):\n",
      " Churn_Status   segment       Active      Churned  Spend_Drop_%\n",
      "0                 Gold  1018.900940   993.619901           2.5\n",
      "1             Platinum  1024.705335  1034.001657          -0.9\n",
      "2               Silver  1032.518922  1011.591138           2.0\n"
     ]
    }
   ],
   "source": [
    "# Spending by Segment and Churn Status\n",
    "seg_spend = df.groupby(['segment', 'churned'])['total_spent'].mean().reset_index()\n",
    "seg_spend['Churn_Status'] = seg_spend['churned'].map({0: 'Active', 1: 'Churned'})\n",
    "seg_spend.drop('churned', axis=1, inplace=True)\n",
    "seg_spend = seg_spend.pivot(index='segment', columns='Churn_Status', values='total_spent').reset_index()\n",
    "seg_spend['Spend_Drop_%'] = round((seg_spend['Active'] - seg_spend['Churned']) / seg_spend['Active'] * 100, 1)\n",
    "print(\"\\nSegment Spending Drop (Churned vs Active):\\n\", seg_spend)\n"
   ]
  },
  {
   "cell_type": "code",
   "execution_count": 8,
   "id": "8e0437a6-4f2a-4d69-9791-b56e0c86e0b0",
   "metadata": {},
   "outputs": [
    {
     "name": "stdout",
     "output_type": "stream",
     "text": [
      "\n",
      "Purchase Frequency by Churn Status:\n",
      "    Churned  Avg_Purchase_Frequency\n",
      "0        0               14.987690\n",
      "1        1               14.779031\n"
     ]
    }
   ],
   "source": [
    "# Purchase Frequency by Churn Status\n",
    "freq_by_churn = df.groupby('churned')['purchase_frequency'].mean().reset_index()\n",
    "freq_by_churn.columns = ['Churned', 'Avg_Purchase_Frequency']\n",
    "print(\"\\nPurchase Frequency by Churn Status:\\n\", freq_by_churn)"
   ]
  },
  {
   "cell_type": "code",
   "execution_count": 9,
   "id": "39cf76e3-a190-491b-82bb-d6d10810574b",
   "metadata": {},
   "outputs": [
    {
     "name": "stdout",
     "output_type": "stream",
     "text": [
      "\n",
      "Purchase Frequency Drop by Segment:\n",
      " Churn_Status   segment     Active    Churned  Freq_Drop_%\n",
      "0                 Gold  14.880983  14.954500         -0.5\n",
      "1             Platinum  15.001307  14.558943          2.9\n",
      "2               Silver  15.082439  14.817468          1.8\n"
     ]
    }
   ],
   "source": [
    "# Frequency drop by segment\n",
    "seg_freq = df.groupby(['segment', 'churned'])['purchase_frequency'].mean().reset_index()\n",
    "seg_freq['Churn_Status'] = seg_freq['churned'].map({0: 'Active', 1: 'Churned'})\n",
    "seg_freq.drop('churned', axis=1, inplace=True)\n",
    "seg_freq = seg_freq.pivot(index='segment', columns='Churn_Status', values='purchase_frequency').reset_index()\n",
    "seg_freq['Freq_Drop_%'] = round((seg_freq['Active'] - seg_freq['Churned']) / seg_freq['Active'] * 100, 1)\n",
    "print(\"\\nPurchase Frequency Drop by Segment:\\n\", seg_freq)"
   ]
  },
  {
   "cell_type": "code",
   "execution_count": 10,
   "id": "0d39792e-211b-4055-beda-5b17b16ad526",
   "metadata": {},
   "outputs": [
    {
     "name": "stdout",
     "output_type": "stream",
     "text": [
      "\n",
      "North Region Platinum Churn Rate: 32.8%\n"
     ]
    }
   ],
   "source": [
    "# High-Risk Segment Example: North Region Platinum Customers\n",
    "north_platinum = df[(df['region'] == 'North') & (df['segment'] == 'Platinum')]\n",
    "north_churn = north_platinum['churned'].mean() * 100\n",
    "print(f\"\\nNorth Region Platinum Churn Rate: {north_churn:.1f}%\")"
   ]
  },
  {
   "cell_type": "code",
   "execution_count": 11,
   "id": "f91fc61b-28e3-48dc-abc1-17207380c707",
   "metadata": {},
   "outputs": [
    {
     "data": {
      "image/png": "[encoded data removed]",
      "text/plain": [
       "<Figure size 640x480 with 1 Axes>"
      ]
     },
     "metadata": {},
     "output_type": "display_data"
    },
    {
     "data": {
      "image/png": "[encoded data removed]",
      "text/plain": [
       "<Figure size 640x480 with 1 Axes>"
      ]
     },
     "metadata": {},
     "output_type": "display_data"
    }
   ],
   "source": [
    "import seaborn as sns\n",
    "import matplotlib.pyplot as plt\n",
    "\n",
    "# Plot churn rate by segment\n",
    "sns.barplot(data=segment_churn, x='segment', y='Churn_Rate')\n",
    "plt.title('Churn Rate by Segment')\n",
    "plt.show()\n",
    "\n",
    "# Plot churn rate by region\n",
    "sns.barplot(data=region_churn, x='region', y='Churn_Rate')\n",
    "plt.title('Churn Rate by Region')\n",
    "plt.show()\n"
   ]
  },
  {
   "cell_type": "code",
   "execution_count": 12,
   "id": "fd9896c9-144f-47f4-bf99-fc90cae046a2",
   "metadata": {},
   "outputs": [],
   "source": [
    "df.to_csv(\"customer_behavior_cleaned.csv\")"
   ]
  },
  {
   "cell_type": "code",
   "execution_count": null,
   "id": "f998fbdd-5f0d-45c8-b09f-fca373a9373e",
   "metadata": {},
   "outputs": [],
   "source": []
  }
 ],
 "metadata": {
  "kernelspec": {
   "display_name": "Python 3 (ipykernel)",
   "language": "python",
   "name": "python3"
  },
  "language_info": {
   "codemirror_mode": {
    "name": "ipython",
    "version": 3
   },
   "file_extension": ".py",
   "mimetype": "text/x-python",
   "name": "python",
   "nbconvert_exporter": "python",
   "pygments_lexer": "ipython3",
   "version": "3.11.2"
  }
 },
 "nbformat": 4,
 "nbformat_minor": 5
}
